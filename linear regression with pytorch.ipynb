{
 "cells": [
  {
   "cell_type": "code",
   "execution_count": 143,
   "id": "ce1bccf0",
   "metadata": {},
   "outputs": [],
   "source": [
    "import torch"
   ]
  },
  {
   "cell_type": "code",
   "execution_count": 144,
   "id": "11209b9d",
   "metadata": {},
   "outputs": [],
   "source": [
    "x = torch.tensor(2.0,requires_grad=True)"
   ]
  },
  {
   "cell_type": "code",
   "execution_count": 145,
   "id": "9112a46d",
   "metadata": {},
   "outputs": [],
   "source": [
    "y = 2*x**4 + x**3 + 3*x**2 + 5*x + 1"
   ]
  },
  {
   "cell_type": "code",
   "execution_count": 146,
   "id": "eb857f7c",
   "metadata": {},
   "outputs": [
    {
     "name": "stdout",
     "output_type": "stream",
     "text": [
      "tensor(63., grad_fn=<AddBackward0>)\n"
     ]
    }
   ],
   "source": [
    "print(y)"
   ]
  },
  {
   "cell_type": "code",
   "execution_count": 147,
   "id": "2270fb1a",
   "metadata": {},
   "outputs": [],
   "source": [
    "y.backward()"
   ]
  },
  {
   "cell_type": "code",
   "execution_count": 148,
   "id": "024f6170",
   "metadata": {},
   "outputs": [
    {
     "data": {
      "text/plain": [
       "tensor(93.)"
      ]
     },
     "execution_count": 148,
     "metadata": {},
     "output_type": "execute_result"
    }
   ],
   "source": [
    "x.grad"
   ]
  },
  {
   "cell_type": "code",
   "execution_count": null,
   "id": "84e964f1",
   "metadata": {},
   "outputs": [],
   "source": []
  },
  {
   "cell_type": "code",
   "execution_count": null,
   "id": "ac385712",
   "metadata": {},
   "outputs": [],
   "source": []
  },
  {
   "cell_type": "code",
   "execution_count": 149,
   "id": "cfdec77e",
   "metadata": {},
   "outputs": [],
   "source": [
    "x = torch.tensor([[1.,2.,3.],[3.,2.,1.]],requires_grad=True)"
   ]
  },
  {
   "cell_type": "code",
   "execution_count": 150,
   "id": "395bd08f",
   "metadata": {},
   "outputs": [
    {
     "name": "stdout",
     "output_type": "stream",
     "text": [
      "tensor([[1., 2., 3.],\n",
      "        [3., 2., 1.]], requires_grad=True)\n"
     ]
    }
   ],
   "source": [
    "print(x)"
   ]
  },
  {
   "cell_type": "code",
   "execution_count": 151,
   "id": "e5809d08",
   "metadata": {},
   "outputs": [],
   "source": [
    "y = 3*x + 2"
   ]
  },
  {
   "cell_type": "code",
   "execution_count": 152,
   "id": "9efb8355",
   "metadata": {},
   "outputs": [
    {
     "data": {
      "text/plain": [
       "tensor([[ 5.,  8., 11.],\n",
       "        [11.,  8.,  5.]], grad_fn=<AddBackward0>)"
      ]
     },
     "execution_count": 152,
     "metadata": {},
     "output_type": "execute_result"
    }
   ],
   "source": [
    "y"
   ]
  },
  {
   "cell_type": "code",
   "execution_count": 153,
   "id": "9501cef5",
   "metadata": {},
   "outputs": [],
   "source": [
    "z = 2*y**2"
   ]
  },
  {
   "cell_type": "code",
   "execution_count": 154,
   "id": "62165e11",
   "metadata": {},
   "outputs": [
    {
     "data": {
      "text/plain": [
       "tensor([[ 50., 128., 242.],\n",
       "        [242., 128.,  50.]], grad_fn=<MulBackward0>)"
      ]
     },
     "execution_count": 154,
     "metadata": {},
     "output_type": "execute_result"
    }
   ],
   "source": [
    "z"
   ]
  },
  {
   "cell_type": "code",
   "execution_count": 155,
   "id": "aa138ff8",
   "metadata": {},
   "outputs": [],
   "source": [
    "out = z.mean()"
   ]
  },
  {
   "cell_type": "code",
   "execution_count": 156,
   "id": "7c1d9687",
   "metadata": {},
   "outputs": [
    {
     "name": "stdout",
     "output_type": "stream",
     "text": [
      "tensor(140., grad_fn=<MeanBackward0>)\n"
     ]
    }
   ],
   "source": [
    "print(out)"
   ]
  },
  {
   "cell_type": "code",
   "execution_count": 157,
   "id": "b5fa5899",
   "metadata": {},
   "outputs": [],
   "source": [
    "out.backward()"
   ]
  },
  {
   "cell_type": "code",
   "execution_count": 158,
   "id": "193296b0",
   "metadata": {},
   "outputs": [
    {
     "name": "stdout",
     "output_type": "stream",
     "text": [
      "tensor([[10., 16., 22.],\n",
      "        [22., 16., 10.]])\n"
     ]
    }
   ],
   "source": [
    "print(x.grad)"
   ]
  },
  {
   "cell_type": "code",
   "execution_count": 159,
   "id": "a6b26ec3",
   "metadata": {},
   "outputs": [],
   "source": [
    "import matplotlib.pyplot as plt"
   ]
  },
  {
   "cell_type": "code",
   "execution_count": 160,
   "id": "5cb4f5e9",
   "metadata": {},
   "outputs": [],
   "source": [
    "import torch.nn as nn"
   ]
  },
  {
   "cell_type": "code",
   "execution_count": 161,
   "id": "7e3e8dfa",
   "metadata": {},
   "outputs": [],
   "source": [
    "X = torch.linspace(1,50,50).reshape(-1,1)"
   ]
  },
  {
   "cell_type": "code",
   "execution_count": 162,
   "id": "8497c2a5",
   "metadata": {},
   "outputs": [],
   "source": [
    "torch.manual_seed(71)\n",
    "e = torch.randint(-8,9,(50,1),dtype=torch.float)"
   ]
  },
  {
   "cell_type": "code",
   "execution_count": 163,
   "id": "e765f7d9",
   "metadata": {},
   "outputs": [],
   "source": [
    "y = 2*X + 1 + e"
   ]
  },
  {
   "cell_type": "code",
   "execution_count": 164,
   "id": "9ebd149f",
   "metadata": {},
   "outputs": [
    {
     "data": {
      "text/plain": [
       "[<matplotlib.lines.Line2D at 0x132be9340>]"
      ]
     },
     "execution_count": 164,
     "metadata": {},
     "output_type": "execute_result"
    },
    {
     "data": {
      "image/png": "[encoded data removed]",
      "text/plain": [
       "<Figure size 432x288 with 1 Axes>"
      ]
     },
     "metadata": {
      "needs_background": "light"
     },
     "output_type": "display_data"
    }
   ],
   "source": [
    "plt.plot(X,y,'.r')"
   ]
  },
  {
   "cell_type": "code",
   "execution_count": 165,
   "id": "3a9ff236",
   "metadata": {},
   "outputs": [
    {
     "name": "stdout",
     "output_type": "stream",
     "text": [
      "Parameter containing:\n",
      "tensor([[0.1060]], requires_grad=True)\n",
      "Parameter containing:\n",
      "tensor([0.9638], requires_grad=True)\n"
     ]
    }
   ],
   "source": [
    "torch.manual_seed(59)\n",
    "\n",
    "model = nn.Linear(in_features=1, out_features=1)\n",
    "print(model.weight)\n",
    "print(model.bias)"
   ]
  },
  {
   "cell_type": "code",
   "execution_count": 166,
   "id": "32d7f708",
   "metadata": {},
   "outputs": [],
   "source": [
    "class Model(nn.Module):\n",
    "    \n",
    "    def __init__(self,in_features, out_features):\n",
    "            super().__init__()\n",
    "            self.linear = nn.Linear(in_features, out_features)\n",
    "            \n",
    "    def forward(self, x):\n",
    "        y_pred = self.linear(x)\n",
    "        return y_pred\n",
    "    "
   ]
  },
  {
   "cell_type": "code",
   "execution_count": 167,
   "id": "7cac0a45",
   "metadata": {
    "scrolled": true
   },
   "outputs": [
    {
     "name": "stdout",
     "output_type": "stream",
     "text": [
      "Parameter containing:\n",
      "tensor([[0.1060]], requires_grad=True)\n",
      "Parameter containing:\n",
      "tensor([0.9638], requires_grad=True)\n"
     ]
    }
   ],
   "source": [
    "torch.manual_seed(59)\n",
    "model = Model(1,1)\n",
    "print(model.linear.weight)\n",
    "print(model.linear.bias)"
   ]
  },
  {
   "cell_type": "code",
   "execution_count": 168,
   "id": "918388b8",
   "metadata": {},
   "outputs": [
    {
     "name": "stdout",
     "output_type": "stream",
     "text": [
      "linear.weight \t 0.10597813129425049\n",
      "linear.bias \t 0.9637961387634277\n"
     ]
    }
   ],
   "source": [
    "for name, param in model.named_parameters():\n",
    "    print(name,'\\t',param.item())"
   ]
  },
  {
   "cell_type": "code",
   "execution_count": 169,
   "id": "d056bd73",
   "metadata": {},
   "outputs": [
    {
     "name": "stdout",
     "output_type": "stream",
     "text": [
      "tensor([1.1758], grad_fn=<AddBackward0>)\n"
     ]
    }
   ],
   "source": [
    "x = torch.tensor([2.0])\n",
    "print(model.forward(x))"
   ]
  },
  {
   "cell_type": "code",
   "execution_count": 170,
   "id": "2d419289",
   "metadata": {},
   "outputs": [
    {
     "name": "stdout",
     "output_type": "stream",
     "text": [
      "tensor([3.0834], grad_fn=<AddBackward0>)\n"
     ]
    }
   ],
   "source": [
    "x = torch.tensor([20.0])\n",
    "print(model.forward(x))"
   ]
  },
  {
   "cell_type": "code",
   "execution_count": 171,
   "id": "01ddbc16",
   "metadata": {},
   "outputs": [],
   "source": [
    "import numpy as np\n",
    "x1= np.linspace(0.0,50.0,50)"
   ]
  },
  {
   "cell_type": "code",
   "execution_count": 172,
   "id": "61656d3f",
   "metadata": {},
   "outputs": [],
   "source": [
    "w1 = 0.1059\n",
    "b1 = 0.9061\n",
    "y1 = w1*x1 + b1"
   ]
  },
  {
   "cell_type": "code",
   "execution_count": 173,
   "id": "08139faa",
   "metadata": {},
   "outputs": [
    {
     "data": {
      "text/plain": [
       "[<matplotlib.lines.Line2D at 0x132c24a30>]"
      ]
     },
     "execution_count": 173,
     "metadata": {},
     "output_type": "execute_result"
    },
    {
     "data": {
      "image/png": "[encoded data removed]",
      "text/plain": [
       "<Figure size 432x288 with 1 Axes>"
      ]
     },
     "metadata": {
      "needs_background": "light"
     },
     "output_type": "display_data"
    }
   ],
   "source": [
    "plt.plot(X,y,'.r')\n",
    "plt.plot(x1,y1,'b')"
   ]
  },
  {
   "cell_type": "code",
   "execution_count": 174,
   "id": "65eaed9c",
   "metadata": {},
   "outputs": [],
   "source": [
    "criterion = nn.MSELoss()"
   ]
  },
  {
   "cell_type": "code",
   "execution_count": 175,
   "id": "c7817451",
   "metadata": {},
   "outputs": [],
   "source": [
    "optimizer = torch.optim.SGD(model.parameters(),lr=0.0001)"
   ]
  },
  {
   "cell_type": "code",
   "execution_count": 176,
   "id": "a778dc56",
   "metadata": {},
   "outputs": [
    {
     "name": "stdout",
     "output_type": "stream",
     "text": [
      "epoch 1 loss: 3197.1982421875 weight: 0.10597813129425049 bias: 0.9637961387634277\n",
      "epoch 2 loss: 2828.777587890625 weight: 0.3016446828842163 bias: 0.973579466342926\n",
      "epoch 3 loss: 2517.08203125 weight: 0.48161882162094116 bias: 0.9825781583786011\n",
      "epoch 4 loss: 2253.37744140625 weight: 0.6471589803695679 bias: 0.9908551573753357\n",
      "epoch 5 loss: 2030.2755126953125 weight: 0.7994228601455688 bias: 0.9984683394432068\n",
      "epoch 6 loss: 1841.5234375 weight: 0.9394751787185669 bias: 1.0054709911346436\n",
      "epoch 7 loss: 1681.833740234375 weight: 1.0682952404022217 bias: 1.0119119882583618\n",
      "epoch 8 loss: 1546.73095703125 weight: 1.186784029006958 bias: 1.0178364515304565\n",
      "epoch 9 loss: 1432.4296875 weight: 1.2957699298858643 bias: 1.0232857465744019\n",
      "epoch 10 loss: 1335.7271728515625 weight: 1.3960151672363281 bias: 1.028298020362854\n",
      "epoch 11 loss: 1253.913330078125 weight: 1.4882208108901978 bias: 1.032908320426941\n",
      "epoch 12 loss: 1184.696533203125 weight: 1.5730315446853638 bias: 1.0371488332748413\n",
      "epoch 13 loss: 1126.136962890625 weight: 1.6510404348373413 bias: 1.0410492420196533\n",
      "epoch 14 loss: 1076.5936279296875 weight: 1.7227929830551147 bias: 1.044636845588684\n",
      "epoch 15 loss: 1034.678466796875 weight: 1.7887909412384033 bias: 1.0479367971420288\n",
      "epoch 16 loss: 999.2167358398438 weight: 1.8494958877563477 bias: 1.0509721040725708\n",
      "epoch 17 loss: 969.215087890625 weight: 1.905332326889038 bias: 1.0537638664245605\n",
      "epoch 18 loss: 943.8326416015625 weight: 1.9566906690597534 bias: 1.056331753730774\n",
      "epoch 19 loss: 922.3583374023438 weight: 2.00393009185791 bias: 1.058693766593933\n",
      "epoch 20 loss: 904.1903686523438 weight: 2.0473809242248535 bias: 1.060866355895996\n",
      "epoch 21 loss: 888.8197021484375 weight: 2.0873470306396484 bias: 1.0628646612167358\n",
      "epoch 22 loss: 875.8156127929688 weight: 2.124107837677002 bias: 1.0647027492523193\n",
      "epoch 23 loss: 864.8135986328125 weight: 2.1579203605651855 bias: 1.0663933753967285\n",
      "epoch 24 loss: 855.505859375 weight: 2.189021110534668 bias: 1.0679484605789185\n",
      "epoch 25 loss: 847.6310424804688 weight: 2.21762752532959 bias: 1.0693787336349487\n",
      "epoch 26 loss: 840.9685668945312 weight: 2.2439398765563965 bias: 1.0706943273544312\n",
      "epoch 27 loss: 835.3320922851562 weight: 2.268141984939575 bias: 1.0719044208526611\n",
      "epoch 28 loss: 830.5633544921875 weight: 2.290403127670288 bias: 1.0730174779891968\n",
      "epoch 29 loss: 826.52880859375 weight: 2.3108787536621094 bias: 1.0740412473678589\n",
      "epoch 30 loss: 823.1156005859375 weight: 2.329712390899658 bias: 1.0749828815460205\n",
      "epoch 31 loss: 820.227783203125 weight: 2.3470354080200195 bias: 1.0758490562438965\n",
      "epoch 32 loss: 817.78466796875 weight: 2.362969160079956 bias: 1.0766457319259644\n",
      "epoch 33 loss: 815.7178344726562 weight: 2.377624988555908 bias: 1.077378511428833\n",
      "epoch 34 loss: 813.9690551757812 weight: 2.3911054134368896 bias: 1.0780525207519531\n",
      "epoch 35 loss: 812.489501953125 weight: 2.4035048484802246 bias: 1.0786725282669067\n",
      "epoch 36 loss: 811.23779296875 weight: 2.414909839630127 bias: 1.0792428255081177\n",
      "epoch 37 loss: 810.1788940429688 weight: 2.4254000186920166 bias: 1.0797673463821411\n",
      "epoch 38 loss: 809.282958984375 weight: 2.435049057006836 bias: 1.0802497863769531\n",
      "epoch 39 loss: 808.52490234375 weight: 2.4439241886138916 bias: 1.0806934833526611\n",
      "epoch 40 loss: 807.8836669921875 weight: 2.45208740234375 bias: 1.081101655960083\n",
      "epoch 41 loss: 807.3412475585938 weight: 2.4595959186553955 bias: 1.0814770460128784\n",
      "epoch 42 loss: 806.8822631835938 weight: 2.4665024280548096 bias: 1.081822395324707\n",
      "epoch 43 loss: 806.4937744140625 weight: 2.4728548526763916 bias: 1.0821399688720703\n",
      "epoch 44 loss: 806.165283203125 weight: 2.4786980152130127 bias: 1.0824321508407593\n",
      "epoch 45 loss: 805.8872680664062 weight: 2.48407244682312 bias: 1.0827008485794067\n",
      "epoch 46 loss: 805.6521606445312 weight: 2.489015817642212 bias: 1.0829479694366455\n",
      "epoch 47 loss: 805.4531860351562 weight: 2.493562698364258 bias: 1.0831753015518188\n",
      "epoch 48 loss: 805.284912109375 weight: 2.4977450370788574 bias: 1.083384394645691\n",
      "epoch 49 loss: 805.1425170898438 weight: 2.501591920852661 bias: 1.0835766792297363\n",
      "epoch 50 loss: 805.0220336914062 weight: 2.5051302909851074 bias: 1.0837535858154297\n"
     ]
    },
    {
     "name": "stderr",
     "output_type": "stream",
     "text": [
      "/usr/local/lib/python3.9/site-packages/torch/nn/modules/loss.py:528: UserWarning: Using a target size (torch.Size([50, 1])) that is different to the input size (torch.Size([1])). This will likely lead to incorrect results due to broadcasting. Please ensure they have the same size.\n",
      "  return F.mse_loss(input, target, reduction=self.reduction)\n"
     ]
    }
   ],
   "source": [
    "epochs = 50\n",
    "losses = []\n",
    "\n",
    "for i in range(epochs):\n",
    "    i = i + 1\n",
    "    y_pred = model.forward(x)\n",
    "    loss = criterion(y_pred,y)\n",
    "    losses.append(loss)\n",
    "    print(f\"epoch {i} loss: {loss.item()} weight: {model.linear.weight.item()} bias: {model.linear.bias.item()}\")\n",
    "    optimizer.zero_grad()\n",
    "    loss.backward()\n",
    "    optimizer.step()"
   ]
  },
  {
   "cell_type": "code",
   "execution_count": 177,
   "id": "79b398fa",
   "metadata": {},
   "outputs": [
    {
     "data": {
      "text/plain": [
       "[<matplotlib.lines.Line2D at 0x1328e67c0>]"
      ]
     },
     "execution_count": 177,
     "metadata": {},
     "output_type": "execute_result"
    },
    {
     "data": {
      "image/png": "[encoded data removed]",
      "text/plain": [
       "<Figure size 432x288 with 1 Axes>"
      ]
     },
     "metadata": {
      "needs_background": "light"
     },
     "output_type": "display_data"
    }
   ],
   "source": [
    "plt.plot(range(epochs),losses)\n"
   ]
  },
  {
   "cell_type": "code",
   "execution_count": 178,
   "id": "7ed69a74",
   "metadata": {},
   "outputs": [],
   "source": [
    "x = np.linspace(0.0,50.0,50)\n",
    "cur_wt = model.linear.weight.item()\n",
    "cur_bias = model.linear.bias.item()\n",
    "\n",
    "pred_y = cur_wt*x + cur_bias"
   ]
  },
  {
   "cell_type": "code",
   "execution_count": 179,
   "id": "9f0acbdf",
   "metadata": {},
   "outputs": [
    {
     "data": {
      "text/plain": [
       "array([ 0.        ,  1.02040816,  2.04081633,  3.06122449,  4.08163265,\n",
       "        5.10204082,  6.12244898,  7.14285714,  8.16326531,  9.18367347,\n",
       "       10.20408163, 11.2244898 , 12.24489796, 13.26530612, 14.28571429,\n",
       "       15.30612245, 16.32653061, 17.34693878, 18.36734694, 19.3877551 ,\n",
       "       20.40816327, 21.42857143, 22.44897959, 23.46938776, 24.48979592,\n",
       "       25.51020408, 26.53061224, 27.55102041, 28.57142857, 29.59183673,\n",
       "       30.6122449 , 31.63265306, 32.65306122, 33.67346939, 34.69387755,\n",
       "       35.71428571, 36.73469388, 37.75510204, 38.7755102 , 39.79591837,\n",
       "       40.81632653, 41.83673469, 42.85714286, 43.87755102, 44.89795918,\n",
       "       45.91836735, 46.93877551, 47.95918367, 48.97959184, 50.        ])"
      ]
     },
     "execution_count": 179,
     "metadata": {},
     "output_type": "execute_result"
    }
   ],
   "source": [
    "x"
   ]
  },
  {
   "cell_type": "code",
   "execution_count": 180,
   "id": "3204ad99",
   "metadata": {},
   "outputs": [
    {
     "data": {
      "text/plain": [
       "array([  1.08391631,   3.64349278,   6.20306925,   8.76264572,\n",
       "        11.3222222 ,  13.88179867,  16.44137514,  19.00095161,\n",
       "        21.56052809,  24.12010456,  26.67968103,  29.2392575 ,\n",
       "        31.79883398,  34.35841045,  36.91798692,  39.47756339,\n",
       "        42.03713987,  44.59671634,  47.15629281,  49.71586928,\n",
       "        52.27544576,  54.83502223,  57.3945987 ,  59.95417517,\n",
       "        62.51375165,  65.07332812,  67.63290459,  70.19248106,\n",
       "        72.75205754,  75.31163401,  77.87121048,  80.43078695,\n",
       "        82.99036343,  85.5499399 ,  88.10951637,  90.66909284,\n",
       "        93.22866931,  95.78824579,  98.34782226, 100.90739873,\n",
       "       103.4669752 , 106.02655168, 108.58612815, 111.14570462,\n",
       "       113.70528109, 116.26485757, 118.82443404, 121.38401051,\n",
       "       123.94358698, 126.50316346])"
      ]
     },
     "execution_count": 180,
     "metadata": {},
     "output_type": "execute_result"
    }
   ],
   "source": [
    "pred_y"
   ]
  },
  {
   "cell_type": "code",
   "execution_count": 181,
   "id": "e04f08a2",
   "metadata": {},
   "outputs": [
    {
     "data": {
      "text/plain": [
       "[<matplotlib.lines.Line2D at 0x1326a94f0>]"
      ]
     },
     "execution_count": 181,
     "metadata": {},
     "output_type": "execute_result"
    },
    {
     "data": {
      "image/png": "[encoded data removed]",
      "text/plain": [
       "<Figure size 432x288 with 1 Axes>"
      ]
     },
     "metadata": {
      "needs_background": "light"
     },
     "output_type": "display_data"
    }
   ],
   "source": [
    "plt.scatter(x,pred_y)\n",
    "plt.plot(X,y,'.r')"
   ]
  },
  {
   "cell_type": "code",
   "execution_count": null,
   "id": "005b3203",
   "metadata": {},
   "outputs": [],
   "source": []
  }
 ],
 "metadata": {
  "kernelspec": {
   "display_name": "Python 3",
   "language": "python",
   "name": "python3"
  },
  "language_info": {
   "codemirror_mode": {
    "name": "ipython",
    "version": 3
   },
   "file_extension": ".py",
   "mimetype": "text/x-python",
   "name": "python",
   "nbconvert_exporter": "python",
   "pygments_lexer": "ipython3",
   "version": "3.9.7"
  }
 },
 "nbformat": 4,
 "nbformat_minor": 5
}
